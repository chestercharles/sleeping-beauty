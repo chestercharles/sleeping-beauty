{
 "cells": [
  {
   "cell_type": "code",
   "execution_count": 18,
   "id": "63fa455f-c77e-44a6-a1df-a54d69393b6f",
   "metadata": {},
   "outputs": [
    {
     "name": "stdout",
     "output_type": "stream",
     "text": [
      "Halfer pcnt correct:  0.500158\n",
      "Thirder pcnt correct:  0.555407\n",
      "Fourther pcnt correct:  0.583255\n",
      "Fifther pcnt correct:  0.599965\n",
      "Heads pcnt correct:  0.333507\n",
      "Tails pcnt correct:  0.666493\n"
     ]
    }
   ],
   "source": [
    "import random;\n",
    "\n",
    "def coin_toss():\n",
    "    if random.random() < 0.5:\n",
    "        return \"heads\"\n",
    "    else:\n",
    "        return \"tails\"\n",
    "\n",
    "def halfer_guess():\n",
    "    return coin_toss()\n",
    "\n",
    "def thirder_guess():\n",
    "    if random.random() < 1/3:\n",
    "        return \"heads\"\n",
    "    else:\n",
    "        return \"tails\"\n",
    "    \n",
    "def fourther_guess():\n",
    "    if random.random() < 1/4:\n",
    "        return \"heads\"\n",
    "    else:\n",
    "        return \"tails\"\n",
    "    \n",
    "def fifther_guess():\n",
    "    if random.random() < 1/5:\n",
    "        return \"heads\"\n",
    "    else:\n",
    "        return \"tails\"\n",
    "\n",
    "def sleeping_beauty(): \n",
    "    rounds = 10000000\n",
    "    num_tries = 0\n",
    "    num_correct_halfer = 0\n",
    "    num_correct_thirder = 0\n",
    "    num_correct_fourther = 0\n",
    "    num_correct_fifther = 0\n",
    "    num_correct_only_tails = 0\n",
    "    num_correct_only_heads = 0\n",
    "    for _ in range(rounds):\n",
    "        result = coin_toss()\n",
    "        wake_ups = result == \"heads\" and 1 or 2\n",
    "        for _ in range(wake_ups):\n",
    "            num_tries += 1\n",
    "            if result == \"heads\":\n",
    "                num_correct_only_heads += 1\n",
    "            else:\n",
    "                num_correct_only_tails += 1\n",
    "            \n",
    "            if halfer_guess() == result:\n",
    "                num_correct_halfer += 1\n",
    "            if thirder_guess() == result:\n",
    "                num_correct_thirder += 1\n",
    "            if fourther_guess() == result:\n",
    "                num_correct_fourther += 1\n",
    "            if fifther_guess() == result:\n",
    "                num_correct_fifther += 1\n",
    "        \n",
    "            \n",
    "    print(\"Halfer pcnt correct: \", round(num_correct_halfer/num_tries, 6))\n",
    "    print(\"Thirder pcnt correct: \", round(num_correct_thirder/num_tries, 6))\n",
    "    print(\"Fourther pcnt correct: \", round(num_correct_fourther/num_tries, 6))\n",
    "    print(\"Fifther pcnt correct: \", round(num_correct_fifther/num_tries, 6))\n",
    "    print(\"Heads pcnt correct: \", round(num_correct_only_heads/num_tries, 6))\n",
    "    print(\"Tails pcnt correct: \", round(num_correct_only_tails/num_tries, 6))\n",
    "        \n",
    "sleeping_beauty()"
   ]
  },
  {
   "cell_type": "code",
   "execution_count": 22,
   "id": "89981cd9-048d-4730-b3a2-20e22177c1d7",
   "metadata": {},
   "outputs": [
    {
     "name": "stdout",
     "output_type": "stream",
     "text": [
      "Requirement already satisfied: matplotlib in /opt/homebrew/Cellar/jupyterlab/4.2.1/libexec/lib/python3.12/site-packages (3.9.0)\n",
      "Requirement already satisfied: contourpy>=1.0.1 in /opt/homebrew/Cellar/jupyterlab/4.2.1/libexec/lib/python3.12/site-packages (from matplotlib) (1.2.1)\n",
      "Requirement already satisfied: cycler>=0.10 in /opt/homebrew/Cellar/jupyterlab/4.2.1/libexec/lib/python3.12/site-packages (from matplotlib) (0.12.1)\n",
      "Requirement already satisfied: fonttools>=4.22.0 in /opt/homebrew/Cellar/jupyterlab/4.2.1/libexec/lib/python3.12/site-packages (from matplotlib) (4.53.0)\n",
      "Requirement already satisfied: kiwisolver>=1.3.1 in /opt/homebrew/Cellar/jupyterlab/4.2.1/libexec/lib/python3.12/site-packages (from matplotlib) (1.4.5)\n",
      "Requirement already satisfied: numpy>=1.23 in /opt/homebrew/Cellar/jupyterlab/4.2.1/libexec/lib/python3.12/site-packages (from matplotlib) (1.26.4)\n",
      "Requirement already satisfied: packaging>=20.0 in /opt/homebrew/Cellar/jupyterlab/4.2.1/libexec/lib/python3.12/site-packages (from matplotlib) (24.0)\n",
      "Requirement already satisfied: pillow>=8 in /opt/homebrew/Cellar/jupyterlab/4.2.1/libexec/lib/python3.12/site-packages (from matplotlib) (10.3.0)\n",
      "Requirement already satisfied: pyparsing>=2.3.1 in /opt/homebrew/Cellar/jupyterlab/4.2.1/libexec/lib/python3.12/site-packages (from matplotlib) (3.1.2)\n",
      "Requirement already satisfied: python-dateutil>=2.7 in /opt/homebrew/Cellar/jupyterlab/4.2.1/libexec/lib/python3.12/site-packages (from matplotlib) (2.9.0.post0)\n",
      "Requirement already satisfied: six>=1.5 in /opt/homebrew/Cellar/jupyterlab/4.2.1/libexec/lib/python3.12/site-packages (from python-dateutil>=2.7->matplotlib) (1.16.0)\n",
      "Note: you may need to restart the kernel to use updated packages.\n",
      "Requirement already satisfied: numpy in /opt/homebrew/Cellar/jupyterlab/4.2.1/libexec/lib/python3.12/site-packages (1.26.4)\n",
      "Note: you may need to restart the kernel to use updated packages.\n"
     ]
    }
   ],
   "source": [
    "%pip install matplotlib\n",
    "%pip install numpy"
   ]
  },
  {
   "cell_type": "code",
   "execution_count": 21,
   "id": "fdc17302-c0d4-4b57-bbbf-78bd0d6944cc",
   "metadata": {},
   "outputs": [
    {
     "ename": "TypeError",
     "evalue": "unsupported operand type(s) for /: 'range' and 'int'",
     "output_type": "error",
     "traceback": [
      "\u001b[0;31m---------------------------------------------------------------------------\u001b[0m",
      "\u001b[0;31mTypeError\u001b[0m                                 Traceback (most recent call last)",
      "Cell \u001b[0;32mIn[21], line 11\u001b[0m\n\u001b[1;32m      7\u001b[0m     \u001b[38;5;28;01melse\u001b[39;00m:\n\u001b[1;32m      8\u001b[0m         \u001b[38;5;28;01mreturn\u001b[39;00m \u001b[38;5;124m\"\u001b[39m\u001b[38;5;124mtails\u001b[39m\u001b[38;5;124m\"\u001b[39m\n\u001b[0;32m---> 11\u001b[0m p_heads \u001b[38;5;241m=\u001b[39m \u001b[38;5;28;43mrange\u001b[39;49m\u001b[43m(\u001b[49m\u001b[38;5;241;43m0\u001b[39;49m\u001b[43m,\u001b[49m\u001b[43m \u001b[49m\u001b[38;5;241;43m100\u001b[39;49m\u001b[43m,\u001b[49m\u001b[43m \u001b[49m\u001b[38;5;241;43m1\u001b[39;49m\u001b[43m)\u001b[49m\u001b[43m \u001b[49m\u001b[38;5;241;43m/\u001b[39;49m\u001b[43m \u001b[49m\u001b[38;5;241;43m100\u001b[39;49m\n\u001b[1;32m     12\u001b[0m corrects \u001b[38;5;241m=\u001b[39m [\u001b[38;5;241m0\u001b[39m] \u001b[38;5;241m*\u001b[39m \u001b[38;5;28mlen\u001b[39m(p_heads)\n\u001b[1;32m     15\u001b[0m \u001b[38;5;28;01mdef\u001b[39;00m \u001b[38;5;21msleeping_beauty\u001b[39m(p_range, rounds): \n",
      "\u001b[0;31mTypeError\u001b[0m: unsupported operand type(s) for /: 'range' and 'int'"
     ]
    }
   ],
   "source": [
    "import random\n",
    "from matplotlib import pyplot as plt \n",
    "import numpy as np \n",
    "\n",
    "def coin_toss(p_heads = 0.5):\n",
    "    if random.random() < p_heads:\n",
    "        return \"heads\"\n",
    "    else:\n",
    "        return \"tails\"\n",
    "\n",
    "p_heads = np.linspace(0, 100)\n",
    "corrects = np.zeros(100)\n",
    "\n",
    "\n",
    "def sleeping_beauty(p_range, rounds): \n",
    "    num_tries = 0\n",
    "    for _ in range(rounds):\n",
    "        result = coin_toss()\n",
    "        wake_ups = result == \"heads\" and 1 or 2\n",
    "        for _ in range(wake_ups):\n",
    "            num_tries += 1\n",
    "            for i, p in enumerate(p_heads):\n",
    "                if (coin_toss(p) == result):\n",
    "                    corrects[i] += 1\n",
    "\n",
    "p_heads                 \n",
    "corrects\n",
    "# x-axis values \n",
    "# x = [5, 2, 9, 4, 7] \n",
    " \n",
    "# Y-axis values \n",
    "# y = [10, 5, 8, 4, 2] \n",
    " \n",
    "# Function to plot \n",
    "# plt.plot(x, y) \n",
    " \n",
    "# function to show the plot \n",
    "# plt.show()"
   ]
  }
 ],
 "metadata": {
  "kernelspec": {
   "display_name": "Python 3 (ipykernel)",
   "language": "python",
   "name": "python3"
  },
  "language_info": {
   "codemirror_mode": {
    "name": "ipython",
    "version": 3
   },
   "file_extension": ".py",
   "mimetype": "text/x-python",
   "name": "python",
   "nbconvert_exporter": "python",
   "pygments_lexer": "ipython3",
   "version": "3.12.3"
  }
 },
 "nbformat": 4,
 "nbformat_minor": 5
}
